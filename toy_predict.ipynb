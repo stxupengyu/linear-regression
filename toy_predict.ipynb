{
 "cells": [
  {
   "cell_type": "code",
   "execution_count": 1,
   "metadata": {},
   "outputs": [
    {
     "data": {
      "text/html": [
       "<div>\n",
       "<style scoped>\n",
       "    .dataframe tbody tr th:only-of-type {\n",
       "        vertical-align: middle;\n",
       "    }\n",
       "\n",
       "    .dataframe tbody tr th {\n",
       "        vertical-align: top;\n",
       "    }\n",
       "\n",
       "    .dataframe thead th {\n",
       "        text-align: right;\n",
       "    }\n",
       "</style>\n",
       "<table border=\"1\" class=\"dataframe\">\n",
       "  <thead>\n",
       "    <tr style=\"text-align: right;\">\n",
       "      <th></th>\n",
       "      <th>index</th>\n",
       "      <th>y</th>\n",
       "    </tr>\n",
       "  </thead>\n",
       "  <tbody>\n",
       "    <tr>\n",
       "      <th>103</th>\n",
       "      <td>104</td>\n",
       "      <td>225058</td>\n",
       "    </tr>\n",
       "    <tr>\n",
       "      <th>104</th>\n",
       "      <td>105</td>\n",
       "      <td>231775</td>\n",
       "    </tr>\n",
       "    <tr>\n",
       "      <th>105</th>\n",
       "      <td>106</td>\n",
       "      <td>199938</td>\n",
       "    </tr>\n",
       "    <tr>\n",
       "      <th>106</th>\n",
       "      <td>107</td>\n",
       "      <td>184396</td>\n",
       "    </tr>\n",
       "    <tr>\n",
       "      <th>107</th>\n",
       "      <td>108</td>\n",
       "      <td>153086</td>\n",
       "    </tr>\n",
       "  </tbody>\n",
       "</table>\n",
       "</div>"
      ],
      "text/plain": [
       "     index       y\n",
       "103    104  225058\n",
       "104    105  231775\n",
       "105    106  199938\n",
       "106    107  184396\n",
       "107    108  153086"
      ]
     },
     "execution_count": 1,
     "metadata": {},
     "output_type": "execute_result"
    }
   ],
   "source": [
    "#加载数据\n",
    "import numpy as np\n",
    "import pandas as pd\n",
    "import matplotlib.pyplot as plt\n",
    "from sklearn.linear_model import LinearRegression\n",
    "data=pd.read_csv('toydata.csv')\n",
    "num=5\n",
    "data.tail()"
   ]
  },
  {
   "cell_type": "code",
   "execution_count": 4,
   "metadata": {},
   "outputs": [],
   "source": [
    "y=data.iloc[:,1]"
   ]
  },
  {
   "cell_type": "code",
   "execution_count": 5,
   "metadata": {},
   "outputs": [
    {
     "data": {
      "text/plain": [
       "[<matplotlib.lines.Line2D at 0x26eb184e400>]"
      ]
     },
     "execution_count": 5,
     "metadata": {},
     "output_type": "execute_result"
    },
    {
     "data": {
      "image/png": "[encoded data removed]",
      "text/plain": [
       "<Figure size 432x288 with 1 Axes>"
      ]
     },
     "metadata": {},
     "output_type": "display_data"
    }
   ],
   "source": [
    "plt.plot(y)"
   ]
  },
  {
   "cell_type": "code",
   "execution_count": 11,
   "metadata": {},
   "outputs": [
    {
     "data": {
      "text/html": [
       "<div>\n",
       "<style scoped>\n",
       "    .dataframe tbody tr th:only-of-type {\n",
       "        vertical-align: middle;\n",
       "    }\n",
       "\n",
       "    .dataframe tbody tr th {\n",
       "        vertical-align: top;\n",
       "    }\n",
       "\n",
       "    .dataframe thead th {\n",
       "        text-align: right;\n",
       "    }\n",
       "</style>\n",
       "<table border=\"1\" class=\"dataframe\">\n",
       "  <thead>\n",
       "    <tr style=\"text-align: right;\">\n",
       "      <th></th>\n",
       "      <th>index</th>\n",
       "      <th>x1</th>\n",
       "      <th>x2</th>\n",
       "      <th>x3</th>\n",
       "      <th>x4</th>\n",
       "      <th>x5</th>\n",
       "      <th>x6</th>\n",
       "      <th>x7</th>\n",
       "      <th>x8</th>\n",
       "      <th>x9</th>\n",
       "      <th>x10</th>\n",
       "      <th>x11</th>\n",
       "      <th>x12</th>\n",
       "      <th>y</th>\n",
       "    </tr>\n",
       "  </thead>\n",
       "  <tbody>\n",
       "    <tr>\n",
       "      <th>0</th>\n",
       "      <td>1</td>\n",
       "      <td>37567</td>\n",
       "      <td>23862</td>\n",
       "      <td>77756</td>\n",
       "      <td>248609</td>\n",
       "      <td>354347</td>\n",
       "      <td>343100</td>\n",
       "      <td>261263</td>\n",
       "      <td>119096</td>\n",
       "      <td>101654</td>\n",
       "      <td>87612</td>\n",
       "      <td>79591</td>\n",
       "      <td>60879</td>\n",
       "      <td>32179.0</td>\n",
       "    </tr>\n",
       "    <tr>\n",
       "      <th>1</th>\n",
       "      <td>2</td>\n",
       "      <td>32179</td>\n",
       "      <td>10609</td>\n",
       "      <td>34709</td>\n",
       "      <td>99819</td>\n",
       "      <td>230460</td>\n",
       "      <td>303594</td>\n",
       "      <td>253442</td>\n",
       "      <td>132154</td>\n",
       "      <td>120802</td>\n",
       "      <td>122491</td>\n",
       "      <td>171805</td>\n",
       "      <td>126679</td>\n",
       "      <td>50758.0</td>\n",
       "    </tr>\n",
       "    <tr>\n",
       "      <th>2</th>\n",
       "      <td>3</td>\n",
       "      <td>50758</td>\n",
       "      <td>40505</td>\n",
       "      <td>99052</td>\n",
       "      <td>237478</td>\n",
       "      <td>462116</td>\n",
       "      <td>381626</td>\n",
       "      <td>248739</td>\n",
       "      <td>118333</td>\n",
       "      <td>135974</td>\n",
       "      <td>146392</td>\n",
       "      <td>150264</td>\n",
       "      <td>127205</td>\n",
       "      <td>60827.0</td>\n",
       "    </tr>\n",
       "    <tr>\n",
       "      <th>3</th>\n",
       "      <td>4</td>\n",
       "      <td>60827</td>\n",
       "      <td>33866</td>\n",
       "      <td>83264</td>\n",
       "      <td>172885</td>\n",
       "      <td>255512</td>\n",
       "      <td>301418</td>\n",
       "      <td>269407</td>\n",
       "      <td>157963</td>\n",
       "      <td>183187</td>\n",
       "      <td>134032</td>\n",
       "      <td>105119</td>\n",
       "      <td>98379</td>\n",
       "      <td>54849.0</td>\n",
       "    </tr>\n",
       "    <tr>\n",
       "      <th>4</th>\n",
       "      <td>5</td>\n",
       "      <td>54849</td>\n",
       "      <td>40802</td>\n",
       "      <td>153141</td>\n",
       "      <td>426347</td>\n",
       "      <td>528777</td>\n",
       "      <td>484724</td>\n",
       "      <td>321477</td>\n",
       "      <td>143653</td>\n",
       "      <td>195485</td>\n",
       "      <td>213067</td>\n",
       "      <td>150603</td>\n",
       "      <td>106656</td>\n",
       "      <td>57763.0</td>\n",
       "    </tr>\n",
       "    <tr>\n",
       "      <th>5</th>\n",
       "      <td>6</td>\n",
       "      <td>57763</td>\n",
       "      <td>33003</td>\n",
       "      <td>61378</td>\n",
       "      <td>173384</td>\n",
       "      <td>304863</td>\n",
       "      <td>354308</td>\n",
       "      <td>262239</td>\n",
       "      <td>180813</td>\n",
       "      <td>180074</td>\n",
       "      <td>160106</td>\n",
       "      <td>130829</td>\n",
       "      <td>116239</td>\n",
       "      <td>79499.0</td>\n",
       "    </tr>\n",
       "    <tr>\n",
       "      <th>6</th>\n",
       "      <td>7</td>\n",
       "      <td>79499</td>\n",
       "      <td>32457</td>\n",
       "      <td>72464</td>\n",
       "      <td>226430</td>\n",
       "      <td>442075</td>\n",
       "      <td>452668</td>\n",
       "      <td>315077</td>\n",
       "      <td>171581</td>\n",
       "      <td>134972</td>\n",
       "      <td>177639</td>\n",
       "      <td>217754</td>\n",
       "      <td>145558</td>\n",
       "      <td>77412.0</td>\n",
       "    </tr>\n",
       "    <tr>\n",
       "      <th>7</th>\n",
       "      <td>8</td>\n",
       "      <td>77412</td>\n",
       "      <td>38654</td>\n",
       "      <td>61225</td>\n",
       "      <td>112898</td>\n",
       "      <td>211189</td>\n",
       "      <td>308789</td>\n",
       "      <td>277680</td>\n",
       "      <td>173367</td>\n",
       "      <td>218880</td>\n",
       "      <td>263311</td>\n",
       "      <td>130280</td>\n",
       "      <td>78750</td>\n",
       "      <td>34800.0</td>\n",
       "    </tr>\n",
       "    <tr>\n",
       "      <th>8</th>\n",
       "      <td>9</td>\n",
       "      <td>34800</td>\n",
       "      <td>13306</td>\n",
       "      <td>28856</td>\n",
       "      <td>116941</td>\n",
       "      <td>387135</td>\n",
       "      <td>423018</td>\n",
       "      <td>377629</td>\n",
       "      <td>225058</td>\n",
       "      <td>231775</td>\n",
       "      <td>199938</td>\n",
       "      <td>184396</td>\n",
       "      <td>153086</td>\n",
       "      <td>NaN</td>\n",
       "    </tr>\n",
       "  </tbody>\n",
       "</table>\n",
       "</div>"
      ],
      "text/plain": [
       "   index     x1     x2      x3      x4      x5      x6      x7      x8  \\\n",
       "0      1  37567  23862   77756  248609  354347  343100  261263  119096   \n",
       "1      2  32179  10609   34709   99819  230460  303594  253442  132154   \n",
       "2      3  50758  40505   99052  237478  462116  381626  248739  118333   \n",
       "3      4  60827  33866   83264  172885  255512  301418  269407  157963   \n",
       "4      5  54849  40802  153141  426347  528777  484724  321477  143653   \n",
       "5      6  57763  33003   61378  173384  304863  354308  262239  180813   \n",
       "6      7  79499  32457   72464  226430  442075  452668  315077  171581   \n",
       "7      8  77412  38654   61225  112898  211189  308789  277680  173367   \n",
       "8      9  34800  13306   28856  116941  387135  423018  377629  225058   \n",
       "\n",
       "       x9     x10     x11     x12        y  \n",
       "0  101654   87612   79591   60879  32179.0  \n",
       "1  120802  122491  171805  126679  50758.0  \n",
       "2  135974  146392  150264  127205  60827.0  \n",
       "3  183187  134032  105119   98379  54849.0  \n",
       "4  195485  213067  150603  106656  57763.0  \n",
       "5  180074  160106  130829  116239  79499.0  \n",
       "6  134972  177639  217754  145558  77412.0  \n",
       "7  218880  263311  130280   78750  34800.0  \n",
       "8  231775  199938  184396  153086      NaN  "
      ]
     },
     "execution_count": 11,
     "metadata": {},
     "output_type": "execute_result"
    }
   ],
   "source": [
    "data1=pd.read_excel('toydata.xlsx',1)\n",
    "data1"
   ]
  },
  {
   "cell_type": "code",
   "execution_count": 13,
   "metadata": {},
   "outputs": [
    {
     "data": {
      "text/html": [
       "<div>\n",
       "<style scoped>\n",
       "    .dataframe tbody tr th:only-of-type {\n",
       "        vertical-align: middle;\n",
       "    }\n",
       "\n",
       "    .dataframe tbody tr th {\n",
       "        vertical-align: top;\n",
       "    }\n",
       "\n",
       "    .dataframe thead th {\n",
       "        text-align: right;\n",
       "    }\n",
       "</style>\n",
       "<table border=\"1\" class=\"dataframe\">\n",
       "  <thead>\n",
       "    <tr style=\"text-align: right;\">\n",
       "      <th></th>\n",
       "      <th>y</th>\n",
       "    </tr>\n",
       "  </thead>\n",
       "  <tbody>\n",
       "    <tr>\n",
       "      <th>0</th>\n",
       "      <td>32179.0</td>\n",
       "    </tr>\n",
       "    <tr>\n",
       "      <th>1</th>\n",
       "      <td>50758.0</td>\n",
       "    </tr>\n",
       "    <tr>\n",
       "      <th>2</th>\n",
       "      <td>60827.0</td>\n",
       "    </tr>\n",
       "    <tr>\n",
       "      <th>3</th>\n",
       "      <td>54849.0</td>\n",
       "    </tr>\n",
       "    <tr>\n",
       "      <th>4</th>\n",
       "      <td>57763.0</td>\n",
       "    </tr>\n",
       "    <tr>\n",
       "      <th>5</th>\n",
       "      <td>79499.0</td>\n",
       "    </tr>\n",
       "    <tr>\n",
       "      <th>6</th>\n",
       "      <td>77412.0</td>\n",
       "    </tr>\n",
       "    <tr>\n",
       "      <th>7</th>\n",
       "      <td>34800.0</td>\n",
       "    </tr>\n",
       "  </tbody>\n",
       "</table>\n",
       "</div>"
      ],
      "text/plain": [
       "         y\n",
       "0  32179.0\n",
       "1  50758.0\n",
       "2  60827.0\n",
       "3  54849.0\n",
       "4  57763.0\n",
       "5  79499.0\n",
       "6  77412.0\n",
       "7  34800.0"
      ]
     },
     "execution_count": 13,
     "metadata": {},
     "output_type": "execute_result"
    }
   ],
   "source": [
    "x1train=data1.iloc[:8,1:13]\n",
    "x1test=data1.iloc[8:,1:13]\n",
    "y1train=data1.iloc[:8,13:]\n",
    "y1train"
   ]
  },
  {
   "cell_type": "code",
   "execution_count": 15,
   "metadata": {},
   "outputs": [
    {
     "data": {
      "text/plain": [
       "LinearRegression(copy_X=True, fit_intercept=True, n_jobs=1, normalize=False)"
      ]
     },
     "execution_count": 15,
     "metadata": {},
     "output_type": "execute_result"
    }
   ],
   "source": [
    "from sklearn.linear_model import LinearRegression\n",
    "logit=LinearRegression()\n",
    "logit.fit(x1train, y1train)"
   ]
  },
  {
   "cell_type": "code",
   "execution_count": 16,
   "metadata": {},
   "outputs": [
    {
     "data": {
      "text/plain": [
       "array([[112378.06579062]])"
      ]
     },
     "execution_count": 16,
     "metadata": {},
     "output_type": "execute_result"
    }
   ],
   "source": [
    "x1predict=logit.predict(x1test)\n",
    "x1predict"
   ]
  },
  {
   "cell_type": "code",
   "execution_count": 17,
   "metadata": {},
   "outputs": [
    {
     "name": "stdout",
     "output_type": "stream",
     "text": [
      "系数 [-0.07051474  0.01774729 -0.12591242 -0.03673201  0.06554945  0.17705303\n",
      " -0.21273012  0.39884381  0.25582394 -0.22057861 -0.03411068  0.33028583]\n",
      "截距 [-46642.20447113]\n"
     ]
    }
   ],
   "source": [
    "print('系数',logit.coef_[0])\n",
    "print('截距',logit.intercept_)"
   ]
  },
  {
   "cell_type": "code",
   "execution_count": 18,
   "metadata": {},
   "outputs": [
    {
     "data": {
      "text/plain": [
       "array([-0.07051474,  0.01774729, -0.12591242, -0.03673201,  0.06554945,\n",
       "        0.17705303, -0.21273012,  0.39884381,  0.25582394, -0.22057861,\n",
       "       -0.03411068,  0.33028583])"
      ]
     },
     "execution_count": 18,
     "metadata": {},
     "output_type": "execute_result"
    },
    {
     "data": {
      "image/png": "[encoded data removed]",
      "text/plain": [
       "<Figure size 432x288 with 1 Axes>"
      ]
     },
     "metadata": {},
     "output_type": "display_data"
    }
   ],
   "source": [
    "plt.plot(logit.coef_[0], 'o', label = 'linear regression')\n",
    "logit.coef_[0]"
   ]
  },
  {
   "cell_type": "code",
   "execution_count": 38,
   "metadata": {},
   "outputs": [],
   "source": []
  },
  {
   "cell_type": "code",
   "execution_count": 44,
   "metadata": {},
   "outputs": [
    {
     "data": {
      "text/plain": [
       "[112378.06579061778,\n",
       " 43112.442311384206,\n",
       " 67324.68757882726,\n",
       " 189051.50388271752,\n",
       " 372093.49147489225,\n",
       " 453893.9554529164]"
      ]
     },
     "execution_count": 44,
     "metadata": {},
     "output_type": "execute_result"
    }
   ],
   "source": [
    "y_predict=[]\n",
    "for i in range(6):\n",
    "    data1=pd.read_excel('toydata.xlsx',i+1)\n",
    "    x1train=data1.iloc[:8,1:13]\n",
    "    x1test=data1.iloc[8:,1:13]\n",
    "    y1train=data1.iloc[:8,13:]\n",
    "    from sklearn.linear_model import LinearRegression\n",
    "    logit=LinearRegression()\n",
    "    logit.fit(x1train, y1train)\n",
    "    x1predict=logit.predict(x1test)\n",
    "    y_predict.append(x1predict[0,0])\n",
    "y_predict"
   ]
  },
  {
   "cell_type": "code",
   "execution_count": 45,
   "metadata": {},
   "outputs": [
    {
     "data": {
      "text/plain": [
       "[<matplotlib.lines.Line2D at 0x26eb19f8b38>]"
      ]
     },
     "execution_count": 45,
     "metadata": {},
     "output_type": "execute_result"
    },
    {
     "data": {
      "image/png": "[encoded data removed]",
      "text/plain": [
       "<Figure size 432x288 with 1 Axes>"
      ]
     },
     "metadata": {},
     "output_type": "display_data"
    }
   ],
   "source": [
    "plt.plot(y_predict)"
   ]
  },
  {
   "cell_type": "code",
   "execution_count": null,
   "metadata": {},
   "outputs": [],
   "source": []
  }
 ],
 "metadata": {
  "kernelspec": {
   "display_name": "Python 3",
   "language": "python",
   "name": "python3"
  },
  "language_info": {
   "codemirror_mode": {
    "name": "ipython",
    "version": 3
   },
   "file_extension": ".py",
   "mimetype": "text/x-python",
   "name": "python",
   "nbconvert_exporter": "python",
   "pygments_lexer": "ipython3",
   "version": "3.7.3"
  }
 },
 "nbformat": 4,
 "nbformat_minor": 2
}
